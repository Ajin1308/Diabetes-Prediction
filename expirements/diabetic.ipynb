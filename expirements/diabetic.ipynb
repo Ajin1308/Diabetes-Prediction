{
 "cells": [
  {
   "cell_type": "code",
   "execution_count": 1,
   "metadata": {},
   "outputs": [],
   "source": [
    "import pandas as pd\n",
    "import numpy as np"
   ]
  },
  {
   "cell_type": "code",
   "execution_count": 4,
   "metadata": {},
   "outputs": [
    {
     "data": {
      "text/html": [
       "<div>\n",
       "<style scoped>\n",
       "    .dataframe tbody tr th:only-of-type {\n",
       "        vertical-align: middle;\n",
       "    }\n",
       "\n",
       "    .dataframe tbody tr th {\n",
       "        vertical-align: top;\n",
       "    }\n",
       "\n",
       "    .dataframe thead th {\n",
       "        text-align: right;\n",
       "    }\n",
       "</style>\n",
       "<table border=\"1\" class=\"dataframe\">\n",
       "  <thead>\n",
       "    <tr style=\"text-align: right;\">\n",
       "      <th></th>\n",
       "      <th>Pregnancies</th>\n",
       "      <th>Glucose</th>\n",
       "      <th>BloodPressure</th>\n",
       "      <th>SkinThickness</th>\n",
       "      <th>Insulin</th>\n",
       "      <th>BMI</th>\n",
       "      <th>DiabetesPedigreeFunction</th>\n",
       "      <th>Age</th>\n",
       "      <th>Diagnosis</th>\n",
       "    </tr>\n",
       "  </thead>\n",
       "  <tbody>\n",
       "    <tr>\n",
       "      <th>0</th>\n",
       "      <td>2</td>\n",
       "      <td>115.863387</td>\n",
       "      <td>56.410731</td>\n",
       "      <td>24.336736</td>\n",
       "      <td>94.385783</td>\n",
       "      <td>26.455940</td>\n",
       "      <td>0.272682</td>\n",
       "      <td>20.100494</td>\n",
       "      <td>0</td>\n",
       "    </tr>\n",
       "    <tr>\n",
       "      <th>1</th>\n",
       "      <td>2</td>\n",
       "      <td>92.490122</td>\n",
       "      <td>70.615520</td>\n",
       "      <td>23.443591</td>\n",
       "      <td>138.652426</td>\n",
       "      <td>23.910167</td>\n",
       "      <td>0.665160</td>\n",
       "      <td>44.912281</td>\n",
       "      <td>0</td>\n",
       "    </tr>\n",
       "    <tr>\n",
       "      <th>2</th>\n",
       "      <td>1</td>\n",
       "      <td>88.141469</td>\n",
       "      <td>63.262618</td>\n",
       "      <td>23.404364</td>\n",
       "      <td>149.358082</td>\n",
       "      <td>21.948250</td>\n",
       "      <td>0.676022</td>\n",
       "      <td>48.247873</td>\n",
       "      <td>1</td>\n",
       "    </tr>\n",
       "    <tr>\n",
       "      <th>3</th>\n",
       "      <td>2</td>\n",
       "      <td>108.453101</td>\n",
       "      <td>67.793632</td>\n",
       "      <td>20.751580</td>\n",
       "      <td>108.751638</td>\n",
       "      <td>24.209304</td>\n",
       "      <td>0.289636</td>\n",
       "      <td>42.749868</td>\n",
       "      <td>0</td>\n",
       "    </tr>\n",
       "    <tr>\n",
       "      <th>4</th>\n",
       "      <td>1</td>\n",
       "      <td>127.849443</td>\n",
       "      <td>94.725685</td>\n",
       "      <td>22.603078</td>\n",
       "      <td>25.269987</td>\n",
       "      <td>32.997477</td>\n",
       "      <td>0.601315</td>\n",
       "      <td>32.797789</td>\n",
       "      <td>0</td>\n",
       "    </tr>\n",
       "  </tbody>\n",
       "</table>\n",
       "</div>"
      ],
      "text/plain": [
       "   Pregnancies     Glucose  BloodPressure  SkinThickness     Insulin  \\\n",
       "0            2  115.863387      56.410731      24.336736   94.385783   \n",
       "1            2   92.490122      70.615520      23.443591  138.652426   \n",
       "2            1   88.141469      63.262618      23.404364  149.358082   \n",
       "3            2  108.453101      67.793632      20.751580  108.751638   \n",
       "4            1  127.849443      94.725685      22.603078   25.269987   \n",
       "\n",
       "         BMI  DiabetesPedigreeFunction        Age  Diagnosis  \n",
       "0  26.455940                  0.272682  20.100494          0  \n",
       "1  23.910167                  0.665160  44.912281          0  \n",
       "2  21.948250                  0.676022  48.247873          1  \n",
       "3  24.209304                  0.289636  42.749868          0  \n",
       "4  32.997477                  0.601315  32.797789          0  "
      ]
     },
     "execution_count": 4,
     "metadata": {},
     "output_type": "execute_result"
    }
   ],
   "source": [
    "df = pd.read_csv(r\"C:\\Users\\user\\Diabetes-Prediction\\expirements\\Diabetes_prediction.csv\")\n",
    "df.head()"
   ]
  },
  {
   "cell_type": "code",
   "execution_count": 7,
   "metadata": {},
   "outputs": [
    {
     "data": {
      "text/plain": [
       "Pregnancies                 0\n",
       "Glucose                     0\n",
       "BloodPressure               0\n",
       "SkinThickness               0\n",
       "Insulin                     0\n",
       "BMI                         0\n",
       "DiabetesPedigreeFunction    0\n",
       "Age                         0\n",
       "Diagnosis                   0\n",
       "dtype: int64"
      ]
     },
     "execution_count": 7,
     "metadata": {},
     "output_type": "execute_result"
    }
   ],
   "source": [
    "df.isnull().sum()"
   ]
  },
  {
   "cell_type": "code",
   "execution_count": 8,
   "metadata": {},
   "outputs": [
    {
     "name": "stdout",
     "output_type": "stream",
     "text": [
      "<class 'pandas.core.frame.DataFrame'>\n",
      "RangeIndex: 1000 entries, 0 to 999\n",
      "Data columns (total 9 columns):\n",
      " #   Column                    Non-Null Count  Dtype  \n",
      "---  ------                    --------------  -----  \n",
      " 0   Pregnancies               1000 non-null   int64  \n",
      " 1   Glucose                   1000 non-null   float64\n",
      " 2   BloodPressure             1000 non-null   float64\n",
      " 3   SkinThickness             1000 non-null   float64\n",
      " 4   Insulin                   1000 non-null   float64\n",
      " 5   BMI                       1000 non-null   float64\n",
      " 6   DiabetesPedigreeFunction  1000 non-null   float64\n",
      " 7   Age                       1000 non-null   float64\n",
      " 8   Diagnosis                 1000 non-null   int64  \n",
      "dtypes: float64(7), int64(2)\n",
      "memory usage: 70.4 KB\n"
     ]
    }
   ],
   "source": [
    "df.info()"
   ]
  },
  {
   "cell_type": "code",
   "execution_count": 11,
   "metadata": {},
   "outputs": [
    {
     "name": "stdout",
     "output_type": "stream",
     "text": [
      "Copy your Api Key (first register/login): https://c.app.hopsworks.ai/account/api/generated\n",
      "Connected. Call `.close()` to terminate connection gracefully.\n",
      "\n",
      "Logged in to project, explore it here https://c.app.hopsworks.ai:443/p/516244\n"
     ]
    }
   ],
   "source": [
    "import hopsworks\n",
    "\n",
    "project = hopsworks.login()"
   ]
  },
  {
   "cell_type": "code",
   "execution_count": 12,
   "metadata": {},
   "outputs": [
    {
     "name": "stdout",
     "output_type": "stream",
     "text": [
      "Connected. Call `.close()` to terminate connection gracefully.\n"
     ]
    }
   ],
   "source": [
    "api_key = 'Te1uRq1N86UX5tGZ.oSTwrDFOLuUmoybnMHQGVXKMTjoZOzu7VfpIYYvGQWRYEOvMkIvLUFCIKJtpcdf9'\n",
    "fs = project.get_feature_store()"
   ]
  },
  {
   "cell_type": "code",
   "execution_count": 13,
   "metadata": {},
   "outputs": [
    {
     "data": {
      "text/plain": [
       "'ajinravi_featurestore'"
      ]
     },
     "execution_count": 13,
     "metadata": {},
     "output_type": "execute_result"
    }
   ],
   "source": [
    "fs.name"
   ]
  },
  {
   "cell_type": "code",
   "execution_count": 6,
   "metadata": {},
   "outputs": [
    {
     "name": "stdout",
     "output_type": "stream",
     "text": [
      "1\n",
      "Connection closed.\n",
      "Connected. Call `.close()` to terminate connection gracefully.\n"
     ]
    },
    {
     "name": "stdout",
     "output_type": "stream",
     "text": [
      "\n",
      "Logged in to project, explore it here https://c.app.hopsworks.ai:443/p/516244\n",
      "Connected. Call `.close()` to terminate connection gracefully.\n",
      "Connected. Call `.close()` to terminate connection gracefully.\n",
      "2\n",
      "3\n",
      "4\n"
     ]
    },
    {
     "name": "stderr",
     "output_type": "stream",
     "text": [
      "DeprecationWarning: ssl.PROTOCOL_TLS is deprecated\n"
     ]
    },
    {
     "name": "stdout",
     "output_type": "stream",
     "text": [
      "Finished: Reading data from Hopsworks, using Hive (3.73s) \n",
      "done\n"
     ]
    }
   ],
   "source": [
    "import sys\n",
    "sys.path.append(r'C:\\Users\\user\\Diabetes-Prediction\\src\\components')\n",
    "\n",
    "import os\n",
    "from dotenv import load_dotenv\n",
    "from components.hopsworks_connect import FeatureStoreManager\n",
    "from sklearn.cluster import KMeans\n",
    "from sklearn.preprocessing import StandardScaler, OneHotEncoder\n",
    "from sklearn.compose import ColumnTransformer\n",
    "from sklearn.pipeline import Pipeline\n",
    "from joblib import dump\n",
    "\n",
    "load_dotenv()\n",
    "\n",
    "hopsworks_api_key_value: str = os.environ.get(\"HOPSWORKS_API_KEY_VALUE\")\n",
    "print(\"1\")\n",
    "\n",
    "manager = FeatureStoreManager(hopsworks_api_key_value)\n",
    "print(\"2\")\n",
    "\n",
    "users_fg = manager.get_feature_group(\"diabetecs_data\", version=1)\n",
    "print(\"3\")\n",
    "\n",
    "query = users_fg.select_all()\n",
    "print(\"4\")\n",
    "\n",
    "df = query.read()\n",
    "print(\"done\")"
   ]
  },
  {
   "cell_type": "code",
   "execution_count": 7,
   "metadata": {},
   "outputs": [
    {
     "data": {
      "text/html": [
       "<div>\n",
       "<style scoped>\n",
       "    .dataframe tbody tr th:only-of-type {\n",
       "        vertical-align: middle;\n",
       "    }\n",
       "\n",
       "    .dataframe tbody tr th {\n",
       "        vertical-align: top;\n",
       "    }\n",
       "\n",
       "    .dataframe thead th {\n",
       "        text-align: right;\n",
       "    }\n",
       "</style>\n",
       "<table border=\"1\" class=\"dataframe\">\n",
       "  <thead>\n",
       "    <tr style=\"text-align: right;\">\n",
       "      <th></th>\n",
       "      <th>pregnancies</th>\n",
       "      <th>glucose</th>\n",
       "      <th>bloodpressure</th>\n",
       "      <th>skinthickness</th>\n",
       "      <th>insulin</th>\n",
       "      <th>bmi</th>\n",
       "      <th>diabetespedigreefunction</th>\n",
       "      <th>age</th>\n",
       "      <th>diagnosis</th>\n",
       "    </tr>\n",
       "  </thead>\n",
       "  <tbody>\n",
       "    <tr>\n",
       "      <th>0</th>\n",
       "      <td>1</td>\n",
       "      <td>132.678964</td>\n",
       "      <td>85.951345</td>\n",
       "      <td>22.719215</td>\n",
       "      <td>47.476594</td>\n",
       "      <td>22.973573</td>\n",
       "      <td>0.189495</td>\n",
       "      <td>20.753330</td>\n",
       "      <td>0</td>\n",
       "    </tr>\n",
       "    <tr>\n",
       "      <th>1</th>\n",
       "      <td>1</td>\n",
       "      <td>60.714150</td>\n",
       "      <td>64.082842</td>\n",
       "      <td>24.689064</td>\n",
       "      <td>111.562745</td>\n",
       "      <td>19.464280</td>\n",
       "      <td>0.250560</td>\n",
       "      <td>44.421874</td>\n",
       "      <td>1</td>\n",
       "    </tr>\n",
       "    <tr>\n",
       "      <th>2</th>\n",
       "      <td>0</td>\n",
       "      <td>115.983576</td>\n",
       "      <td>63.524499</td>\n",
       "      <td>22.855729</td>\n",
       "      <td>61.212388</td>\n",
       "      <td>28.262363</td>\n",
       "      <td>0.647677</td>\n",
       "      <td>18.702753</td>\n",
       "      <td>1</td>\n",
       "    </tr>\n",
       "    <tr>\n",
       "      <th>3</th>\n",
       "      <td>1</td>\n",
       "      <td>93.749145</td>\n",
       "      <td>82.365700</td>\n",
       "      <td>22.518677</td>\n",
       "      <td>93.472520</td>\n",
       "      <td>19.982207</td>\n",
       "      <td>0.300327</td>\n",
       "      <td>52.230774</td>\n",
       "      <td>0</td>\n",
       "    </tr>\n",
       "    <tr>\n",
       "      <th>4</th>\n",
       "      <td>0</td>\n",
       "      <td>86.252314</td>\n",
       "      <td>55.802301</td>\n",
       "      <td>22.825742</td>\n",
       "      <td>-0.205205</td>\n",
       "      <td>21.513624</td>\n",
       "      <td>0.154792</td>\n",
       "      <td>56.561546</td>\n",
       "      <td>0</td>\n",
       "    </tr>\n",
       "    <tr>\n",
       "      <th>...</th>\n",
       "      <td>...</td>\n",
       "      <td>...</td>\n",
       "      <td>...</td>\n",
       "      <td>...</td>\n",
       "      <td>...</td>\n",
       "      <td>...</td>\n",
       "      <td>...</td>\n",
       "      <td>...</td>\n",
       "      <td>...</td>\n",
       "    </tr>\n",
       "    <tr>\n",
       "      <th>995</th>\n",
       "      <td>0</td>\n",
       "      <td>113.633814</td>\n",
       "      <td>72.228418</td>\n",
       "      <td>22.326829</td>\n",
       "      <td>69.771570</td>\n",
       "      <td>28.171251</td>\n",
       "      <td>0.646513</td>\n",
       "      <td>44.811147</td>\n",
       "      <td>1</td>\n",
       "    </tr>\n",
       "    <tr>\n",
       "      <th>996</th>\n",
       "      <td>5</td>\n",
       "      <td>111.997186</td>\n",
       "      <td>76.741777</td>\n",
       "      <td>23.465829</td>\n",
       "      <td>32.985907</td>\n",
       "      <td>27.584803</td>\n",
       "      <td>0.402677</td>\n",
       "      <td>68.814960</td>\n",
       "      <td>1</td>\n",
       "    </tr>\n",
       "    <tr>\n",
       "      <th>997</th>\n",
       "      <td>3</td>\n",
       "      <td>98.197505</td>\n",
       "      <td>61.848646</td>\n",
       "      <td>21.875743</td>\n",
       "      <td>57.949824</td>\n",
       "      <td>21.456311</td>\n",
       "      <td>0.670626</td>\n",
       "      <td>62.615457</td>\n",
       "      <td>1</td>\n",
       "    </tr>\n",
       "    <tr>\n",
       "      <th>998</th>\n",
       "      <td>4</td>\n",
       "      <td>128.256681</td>\n",
       "      <td>83.592925</td>\n",
       "      <td>22.371875</td>\n",
       "      <td>42.656943</td>\n",
       "      <td>29.903630</td>\n",
       "      <td>0.607898</td>\n",
       "      <td>34.721735</td>\n",
       "      <td>0</td>\n",
       "    </tr>\n",
       "    <tr>\n",
       "      <th>999</th>\n",
       "      <td>2</td>\n",
       "      <td>128.603113</td>\n",
       "      <td>46.312688</td>\n",
       "      <td>22.504512</td>\n",
       "      <td>104.622029</td>\n",
       "      <td>27.267384</td>\n",
       "      <td>0.718798</td>\n",
       "      <td>60.003112</td>\n",
       "      <td>0</td>\n",
       "    </tr>\n",
       "  </tbody>\n",
       "</table>\n",
       "<p>1000 rows × 9 columns</p>\n",
       "</div>"
      ],
      "text/plain": [
       "     pregnancies     glucose  bloodpressure  skinthickness     insulin  \\\n",
       "0              1  132.678964      85.951345      22.719215   47.476594   \n",
       "1              1   60.714150      64.082842      24.689064  111.562745   \n",
       "2              0  115.983576      63.524499      22.855729   61.212388   \n",
       "3              1   93.749145      82.365700      22.518677   93.472520   \n",
       "4              0   86.252314      55.802301      22.825742   -0.205205   \n",
       "..           ...         ...            ...            ...         ...   \n",
       "995            0  113.633814      72.228418      22.326829   69.771570   \n",
       "996            5  111.997186      76.741777      23.465829   32.985907   \n",
       "997            3   98.197505      61.848646      21.875743   57.949824   \n",
       "998            4  128.256681      83.592925      22.371875   42.656943   \n",
       "999            2  128.603113      46.312688      22.504512  104.622029   \n",
       "\n",
       "           bmi  diabetespedigreefunction        age  diagnosis  \n",
       "0    22.973573                  0.189495  20.753330          0  \n",
       "1    19.464280                  0.250560  44.421874          1  \n",
       "2    28.262363                  0.647677  18.702753          1  \n",
       "3    19.982207                  0.300327  52.230774          0  \n",
       "4    21.513624                  0.154792  56.561546          0  \n",
       "..         ...                       ...        ...        ...  \n",
       "995  28.171251                  0.646513  44.811147          1  \n",
       "996  27.584803                  0.402677  68.814960          1  \n",
       "997  21.456311                  0.670626  62.615457          1  \n",
       "998  29.903630                  0.607898  34.721735          0  \n",
       "999  27.267384                  0.718798  60.003112          0  \n",
       "\n",
       "[1000 rows x 9 columns]"
      ]
     },
     "execution_count": 7,
     "metadata": {},
     "output_type": "execute_result"
    }
   ],
   "source": [
    "df"
   ]
  },
  {
   "cell_type": "code",
   "execution_count": 18,
   "metadata": {},
   "outputs": [],
   "source": [
    "from sklearn.model_selection import train_test_split\n",
    "from sklearn.ensemble import RandomForestClassifier, GradientBoostingClassifier\n",
    "from xgboost import XGBClassifier\n",
    "from sklearn.linear_model import LogisticRegression\n",
    "from sklearn.svm import SVC\n",
    "from sklearn.metrics import accuracy_score\n",
    "from sklearn.preprocessing import StandardScaler\n",
    "from sklearn.pipeline import Pipeline\n",
    "X = df.drop(columns=['diagnosis'])\n",
    "y = df['diagnosis']\n",
    "X_train, X_test, y_train, y_test = train_test_split(X, y, test_size=0.2, random_state=42)"
   ]
  },
  {
   "cell_type": "code",
   "execution_count": 19,
   "metadata": {},
   "outputs": [],
   "source": [
    "pipelines = {\n",
    "    'Random Forest': Pipeline([('scaler', StandardScaler()), ('rf', RandomForestClassifier(random_state=42))]),\n",
    "    'Logistic Regression': Pipeline([('scaler', StandardScaler()), ('lr', LogisticRegression(random_state=42))]),\n",
    "    'XGBoost': Pipeline([('scaler', StandardScaler()), ('xgb', XGBClassifier(random_state=42))]),\n",
    "    'Gradient Boosting': Pipeline([('scaler', StandardScaler()), ('gb', GradientBoostingClassifier(random_state=42))]),\n",
    "    'Support Vector Machine': Pipeline([('scaler', StandardScaler()), ('svc', SVC(random_state=42))])\n",
    "}\n",
    "\n",
    "# Step 3: Train models and store accuracies\n",
    "accuracies = {}\n",
    "for model_name, pipeline in pipelines.items():\n",
    "    pipeline.fit(X_train, y_train)\n",
    "    y_pred = pipeline.predict(X_test)\n",
    "    accuracy = accuracy_score(y_test, y_pred)\n",
    "    accuracies[model_name] = accuracy\n",
    "\n",
    "# Step 4: Select the best model\n",
    "best_model = max(accuracies, key=accuracies.get)\n",
    "best_accuracy = accuracies[best_model]"
   ]
  },
  {
   "cell_type": "code",
   "execution_count": 20,
   "metadata": {},
   "outputs": [
    {
     "name": "stdout",
     "output_type": "stream",
     "text": [
      "The best model is Logistic Regression with accuracy 0.66\n"
     ]
    }
   ],
   "source": [
    "print(f\"The best model is {best_model} with accuracy {best_accuracy:.2f}\")"
   ]
  },
  {
   "cell_type": "code",
   "execution_count": 21,
   "metadata": {},
   "outputs": [
    {
     "data": {
      "text/plain": [
       "{'Random Forest': 0.655,\n",
       " 'Logistic Regression': 0.66,\n",
       " 'XGBoost': 0.585,\n",
       " 'Gradient Boosting': 0.635,\n",
       " 'Support Vector Machine': 0.66}"
      ]
     },
     "execution_count": 21,
     "metadata": {},
     "output_type": "execute_result"
    }
   ],
   "source": [
    "accuracies"
   ]
  },
  {
   "cell_type": "code",
   "execution_count": null,
   "metadata": {},
   "outputs": [],
   "source": []
  }
 ],
 "metadata": {
  "kernelspec": {
   "display_name": "venv",
   "language": "python",
   "name": "python3"
  },
  "language_info": {
   "codemirror_mode": {
    "name": "ipython",
    "version": 3
   },
   "file_extension": ".py",
   "mimetype": "text/x-python",
   "name": "python",
   "nbconvert_exporter": "python",
   "pygments_lexer": "ipython3",
   "version": "3.10.11"
  }
 },
 "nbformat": 4,
 "nbformat_minor": 2
}
